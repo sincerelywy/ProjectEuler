{
 "cells": [
  {
   "cell_type": "markdown",
   "metadata": {},
   "source": [
    "# Multiples of 3 and 5\n",
    "\n",
    "## Problem 1\n",
    "\n",
    "If we list all the natural numbers below 10 that are multiples of 3 or 5, we get 3, 5, 6 and 9. The sum of these multiples is 23.\n",
    "\n",
    "Find the sum of all the multiples of 3 or 5 below 1000."
   ]
  },
  {
   "cell_type": "markdown",
   "metadata": {},
   "source": [
    "## 我的解法\n",
    "问题是求1000以内的自然数中，3的倍数或者5的倍数之和是多少。    \n",
    "我已经很久没做算法题了，首先来试试穷举法，因为1000以内的自然数也不多，遍历一遍即可。"
   ]
  },
  {
   "cell_type": "code",
   "execution_count": 2,
   "metadata": {
    "collapsed": false
   },
   "outputs": [
    {
     "name": "stdout",
     "output_type": "stream",
     "text": [
      "233168\n"
     ]
    }
   ],
   "source": [
    "sum = 0\n",
    "for i in range(1000):\n",
    "    if i % 3 == 0 or i % 5 == 0:\n",
    "        sum += i\n",
    "print(sum)"
   ]
  },
  {
   "cell_type": "markdown",
   "metadata": {},
   "source": [
    "## 其它解法    \n",
    "总有种感觉自己的解法不是最优，这个可能是对自己的能力不自信:joy:    \n",
    "仔细想想，如果问题求解1,000,000,000以内的数，或者更大的数，循环遍历就比较耗时了。    \n",
    "设定一个函数`SumDivisibleBy(N)`表示求Target以内的N的倍数之和，那么原来的问题就可以看做：**Target以内 3的倍数之和 + 5的倍数之和 - (3\\*5)的倍数之和**，即    \n",
    "```\n",
    "SumDivisibleBy(3)+SumDivisibleBy(5)-SumDivisibleBy(15)\n",
    "```\n",
    "例如1000以内3的倍数之和，等于`3+6+9+...+999 = 3*(1+2+3+...+(1000/3))`，所以不需要循环，直接计算前`(1000 /3)`项和即可。所以比较优化的解法："
   ]
  },
  {
   "cell_type": "code",
   "execution_count": 5,
   "metadata": {
    "collapsed": false
   },
   "outputs": [
    {
     "name": "stdout",
     "output_type": "stream",
     "text": [
      "233168\n"
     ]
    }
   ],
   "source": [
    "Target = 1000 - 1\n",
    "\n",
    "def SumDivisibleBy(n):\n",
    "    p = Target // n\n",
    "    return n * (p * (p + 1)) // 2\n",
    "print(SumDivisibleBy(3) + SumDivisibleBy(5) - SumDivisibleBy(15))"
   ]
  }
 ],
 "metadata": {
  "kernelspec": {
   "display_name": "Python 3",
   "language": "python",
   "name": "python3"
  },
  "language_info": {
   "codemirror_mode": {
    "name": "ipython",
    "version": 3
   },
   "file_extension": ".py",
   "mimetype": "text/x-python",
   "name": "python",
   "nbconvert_exporter": "python",
   "pygments_lexer": "ipython3",
   "version": "3.5.2"
  }
 },
 "nbformat": 4,
 "nbformat_minor": 1
}
